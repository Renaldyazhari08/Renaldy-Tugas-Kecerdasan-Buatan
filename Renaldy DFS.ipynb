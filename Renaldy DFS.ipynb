{
  "nbformat": 4,
  "nbformat_minor": 0,
  "metadata": {
    "colab": {
      "provenance": []
    },
    "kernelspec": {
      "name": "python3",
      "display_name": "Python 3"
    },
    "language_info": {
      "name": "python"
    }
  },
  "cells": [
    {
      "cell_type": "code",
      "execution_count": 1,
      "metadata": {
        "colab": {
          "base_uri": "https://localhost:8080/"
        },
        "id": "JxoV32pMirOZ",
        "outputId": "5c11fd07-d978-473c-c1a6-c37de46c6a98"
      },
      "outputs": [
        {
          "output_type": "stream",
          "name": "stdout",
          "text": [
            "DFS : ['A', 'B', 'D', 'E', 'C', 'F', 'G']\n"
          ]
        }
      ],
      "source": [
        "def dfs(graph, source, visited, dfs_traversal):\n",
        "  if source not in visited:\n",
        "    dfs_traversal.append(source)\n",
        "    visited.add(source)\n",
        "    for neighbour_node in graph[source]:\n",
        "      dfs(graph, neighbour_node, visited, dfs_traversal)\n",
        "  return dfs_traversal\n",
        "\n",
        "visited = set()\n",
        "dfs_traversal = list()\n",
        "graph = {\n",
        "    'A':['B','C'],\n",
        "    'B':['D', 'E'],\n",
        "    'C':['F', 'G'],\n",
        "    'D':[],\n",
        "    'E':[],\n",
        "    'F':[],\n",
        "    'G':[]\n",
        "}\n",
        "print(f\"DFS : {dfs(graph, 'A', visited, dfs_traversal)}\")"
      ]
    }
  ]
}